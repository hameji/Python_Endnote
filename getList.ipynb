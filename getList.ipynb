{
 "cells": [
  {
   "attachments": {},
   "cell_type": "markdown",
   "metadata": {},
   "source": [
    "# Set file path\n",
    "\n",
    "This script is to manage endnote files.\n",
    "And keep list and pdf files up-to-date and synchronized.\n"
   ]
  },
  {
   "cell_type": "code",
   "execution_count": 19,
   "metadata": {},
   "outputs": [],
   "source": [
    "import os\n",
    "import datetime\n",
    "\n",
    "path = \"/Users/hazmini/Dropbox/Mac/Documents/Endnote/\"\n",
    "\n",
    "file_list = []\n",
    "for current_dir, sub_dirs, files in os.walk(path):\n",
    "    for file in files:\n",
    "        ext = file.split(\".\")[-1]\n",
    "        \n",
    "        fullpath = os.path.join(current_dir, file)\n",
    "        format = '%Y-%m-%d %H:%M:%S'\n",
    "        \n",
    "        t = os.path.getmtime(fullpath)\n",
    "        d = datetime.datetime.fromtimestamp(t)\n",
    "\n",
    "        update_stamp = d.strftime(format)\n",
    "        file_list.append([file, ext, update_stamp, fullpath])\n",
    "        \n",
    "import pandas as pd\n",
    "\n",
    "df = pd.DataFrame(file_list)\n",
    "df_new = df.rename(columns={0:'file_name', \n",
    "                            1:'extension', \n",
    "                            2:'update_stamp',\n",
    "                            3:'full_path'\n",
    "                            })"
   ]
  },
  {
   "cell_type": "code",
   "execution_count": 21,
   "metadata": {},
   "outputs": [
    {
     "ename": "NameError",
     "evalue": "name '__file__' is not defined",
     "output_type": "error",
     "traceback": [
      "\u001b[0;31m---------------------------------------------------------------------------\u001b[0m",
      "\u001b[0;31mNameError\u001b[0m                                 Traceback (most recent call last)",
      "\u001b[1;32mセル3 を /Users/hazmini/Dropbox/Mac/Desktop/dataScience/python/endnote/getList.ipynb\u001b[0m in \u001b[0;36m<cell line: 1>\u001b[0;34m()\u001b[0m\n\u001b[0;32m----> <a href='vscode-notebook-cell:/Users/hazmini/Dropbox/Mac/Desktop/dataScience/python/endnote/getList.ipynb#X14sZmlsZQ%3D%3D?line=0'>1</a>\u001b[0m cwd \u001b[39m=\u001b[39m os\u001b[39m.\u001b[39mpath\u001b[39m.\u001b[39mdirname(os\u001b[39m.\u001b[39mpath\u001b[39m.\u001b[39mabspath(\u001b[39m__file__\u001b[39;49m))\n\u001b[1;32m      <a href='vscode-notebook-cell:/Users/hazmini/Dropbox/Mac/Desktop/dataScience/python/endnote/getList.ipynb#X14sZmlsZQ%3D%3D?line=1'>2</a>\u001b[0m \u001b[39mprint\u001b[39m(cwd)\n",
      "\u001b[0;31mNameError\u001b[0m: name '__file__' is not defined"
     ]
    }
   ],
   "source": [
    "cwd = os.path.dirname(os.path.abspath(__file__))\n",
    "print(cwd)"
   ]
  },
  {
   "cell_type": "code",
   "execution_count": 24,
   "metadata": {},
   "outputs": [],
   "source": [
    "df_new\n",
    "\n",
    "save_dir = \"~/Desktop/dataScience/python/endnote/\"\n",
    "file_name = \"database.csv\"\n",
    "df_new.to_csv(save_dir + file_name)"
   ]
  }
 ],
 "metadata": {
  "kernelspec": {
   "display_name": "base",
   "language": "python",
   "name": "python3"
  },
  "language_info": {
   "codemirror_mode": {
    "name": "ipython",
    "version": 3
   },
   "file_extension": ".py",
   "mimetype": "text/x-python",
   "name": "python",
   "nbconvert_exporter": "python",
   "pygments_lexer": "ipython3",
   "version": "3.9.12"
  },
  "orig_nbformat": 4,
  "vscode": {
   "interpreter": {
    "hash": "3c62c7bdc8c59f3216845ae1171b0793b88537afc4b15a82338f40f2bd75067f"
   }
  }
 },
 "nbformat": 4,
 "nbformat_minor": 2
}
